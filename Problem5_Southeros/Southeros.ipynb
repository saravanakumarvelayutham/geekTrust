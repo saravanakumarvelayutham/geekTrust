{
 "cells": [
  {
   "cell_type": "code",
   "execution_count": 1,
   "metadata": {},
   "outputs": [],
   "source": [
    "from collections import Counter"
   ]
  },
  {
   "cell_type": "code",
   "execution_count": 2,
   "metadata": {},
   "outputs": [],
   "source": [
    "kingdoms = list()"
   ]
  },
  {
   "cell_type": "code",
   "execution_count": 3,
   "metadata": {},
   "outputs": [],
   "source": [
    "class Kingdom:\n",
    "    def __init__(self,name,emblem,support):\n",
    "        self.Name = name\n",
    "        self.Emblem = emblem\n",
    "        self.Support = support\n",
    "        self.Counter = Counter(emblem.lower())\n",
    "    def __str__(self):\n",
    "        return '{} with {} of support {}'.format(self.Name,self.Emblem,self.Support)"
   ]
  },
  {
   "cell_type": "code",
   "execution_count": 4,
   "metadata": {},
   "outputs": [],
   "source": [
    "def initalizeConstants():\n",
    "    kingdoms.clear()\n",
    "    kingdomEmblems = {\n",
    "        'Land' : 'Panda',\n",
    "        'Water' : 'Octopus',\n",
    "        'Ice' : 'Mammoth',\n",
    "        'Air' : 'Owl',\n",
    "        'Fire' : 'Dragon'\n",
    "    }\n",
    "    for name,emblem in kingdomEmblems.items():\n",
    "        kingdom = Kingdom(name,emblem,0)\n",
    "        kingdoms.extend([kingdom])\n",
    "    del kingdomEmblems"
   ]
  },
  {
   "cell_type": "code",
   "execution_count": 22,
   "metadata": {},
   "outputs": [],
   "source": [
    "initalizeConstants()"
   ]
  },
  {
   "cell_type": "code",
   "execution_count": 6,
   "metadata": {},
   "outputs": [],
   "source": [
    "class Message:\n",
    "    def __init__(self,sender,receiver,message):\n",
    "        self.Sender = sender\n",
    "        self.Receiver = receiver\n",
    "        self.Message = message\n",
    "    def __str__(self):\n",
    "        return '{} -> {} : {}'.format(self.Sender,self.Receiver,self.Message)"
   ]
  },
  {
   "cell_type": "code",
   "execution_count": 10,
   "metadata": {},
   "outputs": [],
   "source": [
    "def voteFor(msg):\n",
    "    msgCounter = Counter(msg.Message)\n",
    "    for kingdom in kingdoms:\n",
    "        filteredCounter = dict((counterKey,counterValue) for counterKey,counterValue in msgCounter.items() \n",
    "                               if counterKey in kingdom.Counter)\n",
    "        if filteredCounter == kingdom.Counter:\n",
    "            kingdom.Support+=1\n",
    "        print(kingdom)"
   ]
  },
  {
   "cell_type": "code",
   "execution_count": 8,
   "metadata": {},
   "outputs": [],
   "source": [
    "sampleIo = \"\"\"Who is the ruler of Southeros? Ouput: None\n",
    "Allies of Ruler?\n",
    "Output: None\n",
    "Input Messages to kingdoms from King Shan: \n",
    "Input: Air, “oaaawaala”\n",
    "Input: Land, “a1d22n333a4444p”\n",
    "Input: Ice, “zmzmzmzaztzozh”\"\"\""
   ]
  },
  {
   "cell_type": "code",
   "execution_count": 25,
   "metadata": {},
   "outputs": [
    {
     "name": "stdout",
     "output_type": "stream",
     "text": [
      "Land with Panda of support 1\n",
      "Ice with Mammoth of support 1\n",
      "Air with Owl of support 2\n",
      "Water with Octopus of support 0\n",
      "Fire with Dragon of support 0\n",
      "Land with Panda of support 2\n",
      "Ice with Mammoth of support 1\n",
      "Air with Owl of support 2\n",
      "Water with Octopus of support 0\n",
      "Fire with Dragon of support 0\n",
      "Land with Panda of support 2\n",
      "Ice with Mammoth of support 2\n",
      "Air with Owl of support 2\n",
      "Water with Octopus of support 0\n",
      "Fire with Dragon of support 0\n"
     ]
    }
   ],
   "source": [
    "msgs = list()\n",
    "for sentence in sampleIo.split('\\n'):\n",
    "    if 'Input:' not in sentence:\n",
    "        continue\n",
    "    splitSentence = sentence.split()\n",
    "    sender = 'King Shan'\n",
    "    receiver = splitSentence[1][:-1]\n",
    "    text = r'{}'.format(splitSentence[2])[1:-1]\n",
    "    msg = Message(sender,receiver,text)\n",
    "    voteFor(msg)\n",
    "    del msg\n",
    "for msg in msgs:\n",
    "    print(msg)"
   ]
  },
  {
   "cell_type": "code",
   "execution_count": 26,
   "metadata": {},
   "outputs": [
    {
     "name": "stdout",
     "output_type": "stream",
     "text": [
      "Land with Panda of support 2\n",
      "Ice with Mammoth of support 2\n",
      "Air with Owl of support 2\n",
      "Water with Octopus of support 0\n",
      "Fire with Dragon of support 0\n"
     ]
    }
   ],
   "source": [
    "kingdoms.sort(key=lambda x: x.Support, reverse=True)\n",
    "winner = kingdoms[0]\n",
    "for kingdom in kingdoms:\n",
    "    print(kingdom)"
   ]
  }
 ],
 "metadata": {
  "kernelspec": {
   "display_name": "Python 3",
   "language": "python",
   "name": "python3"
  },
  "language_info": {
   "codemirror_mode": {
    "name": "ipython",
    "version": 3
   },
   "file_extension": ".py",
   "mimetype": "text/x-python",
   "name": "python",
   "nbconvert_exporter": "python",
   "pygments_lexer": "ipython3",
   "version": "3.7.2"
  }
 },
 "nbformat": 4,
 "nbformat_minor": 2
}
